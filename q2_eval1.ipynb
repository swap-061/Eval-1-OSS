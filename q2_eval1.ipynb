{
 "cells": [
  {
   "cell_type": "code",
   "execution_count": null,
   "id": "6db1b45c",
   "metadata": {},
   "outputs": [],
   "source": [
    "s = input(\"Enter String : \")\n",
    "y = s.split()\n",
    "max = 0\n",
    "max_2 = 0\n",
    "str = \"\"\n",
    "ch = \"\"\n",
    "for x in y:\n",
    "    cnt = 0\n",
    "    for z in y:\n",
    "        if z == x:\n",
    "            cnt+=1\n",
    "            if max < cnt:\n",
    "                max = cnt\n",
    "                str = x\n",
    "\n",
    "for x in s:\n",
    "    cnt = 0\n",
    "    if x.islower() or x.isupper():\n",
    "        for z in s:\n",
    "            if x == z:\n",
    "                cnt+=1\n",
    "                if max_2 < cnt:\n",
    "                    max_2 = cnt\n",
    "                    ch = x\n",
    "print(str)\n",
    "print(max)\n",
    "print(ch)\n",
    "print(max_2)"
   ]
  }
 ],
 "metadata": {
  "kernelspec": {
   "display_name": "Python 3 (ipykernel)",
   "language": "python",
   "name": "python3"
  },
  "language_info": {
   "codemirror_mode": {
    "name": "ipython",
    "version": 3
   },
   "file_extension": ".py",
   "mimetype": "text/x-python",
   "name": "python",
   "nbconvert_exporter": "python",
   "pygments_lexer": "ipython3",
   "version": "3.11.5"
  }
 },
 "nbformat": 4,
 "nbformat_minor": 5
}
