{
 "cells": [
  {
   "cell_type": "code",
   "execution_count": null,
   "id": "ff9121a3",
   "metadata": {},
   "outputs": [],
   "source": [
    "lowercase = {1,2}\n",
    "uppercase = {1,2}\n",
    "strInput = input(\"Enter String : \")\n",
    "\n",
    "for str in strInput:\n",
    "    if str.islower():\n",
    "        lowercase.add(str)\n",
    "    elif str.isupper():\n",
    "        uppercase.add(str)\n",
    "lowercase.remove(2)\n",
    "lowercase.remove(1)\n",
    "uppercase.remove(1)\n",
    "uppercase.remove(2)\n",
    "print(strInput)\n",
    "print(lowercase)\n",
    "print(uppercase)"
   ]
  }
 ],
 "metadata": {
  "kernelspec": {
   "display_name": "Python 3 (ipykernel)",
   "language": "python",
   "name": "python3"
  },
  "language_info": {
   "codemirror_mode": {
    "name": "ipython",
    "version": 3
   },
   "file_extension": ".py",
   "mimetype": "text/x-python",
   "name": "python",
   "nbconvert_exporter": "python",
   "pygments_lexer": "ipython3",
   "version": "3.11.5"
  }
 },
 "nbformat": 4,
 "nbformat_minor": 5
}
